{
 "cells": [
  {
   "cell_type": "code",
   "execution_count": 1,
   "metadata": {},
   "outputs": [],
   "source": [
    "r\"\"\"We consider different loggers that avoid sharing of loggers\n",
    "by different modules and allow customization and separate \n",
    "configurations for each of the loggers.\n",
    "\"\"\"\n",
    "\n",
    "import logging"
   ]
  },
  {
   "cell_type": "code",
   "execution_count": 2,
   "metadata": {},
   "outputs": [
    {
     "data": {
      "text/plain": [
       "'Now, imagine that a logger is being configured in one of the\\nimport files. If the logger is not set properly, it will be \\nchosen to be the root logger and it will be configured as per\\nthe configs from basicConfig arguments. If we create naively our\\nown logger, then the root logger will be asked to share the same \\nroot logger. Thus, if we try to re-configure the root/ already \\nconfigured logger, it is ignored by design! Thus, we need to know\\nall the logging levels and other details to log our own statements\\nto the same logger, which can be root. Thus, sharing loggers is a \\nvery very bad idea. We can instead go for different loggers.\\n'"
      ]
     },
     "execution_count": 2,
     "metadata": {},
     "output_type": "execute_result"
    }
   ],
   "source": [
    "r\"\"\"We kept on getting the format of <...>:root:<...> types of\n",
    "prefixes in the logged messages. This was because 'root' logger\n",
    "was being used all the time. Since we did not specify a specific\n",
    "logger, the root logger was picked for all the logging purposes.\n",
    "\"\"\"\n",
    "\n",
    "r\"\"\"On a side note, each import of a module actually runs the \n",
    "entire code present in the module. Thus, any instance created of \n",
    "any of the classes or functions will also be imported!\"\"\"\n",
    "\n",
    "r\"\"\"Now, imagine that a logger is being configured in one of the\n",
    "import files. If the logger is not set properly, it will be \n",
    "chosen to be the root logger and it will be configured as per\n",
    "the configs from basicConfig arguments. If we create naively our\n",
    "own logger, then the root logger will be asked to share the same \n",
    "root logger. Thus, if we try to re-configure the root/ already \n",
    "configured logger, it is ignored by design! Thus, we need to know\n",
    "all the logging levels and other details to log our own statements\n",
    "to the same logger, which can be root. Thus, sharing loggers is a \n",
    "very very bad idea. We can instead go for different loggers.\n",
    "\"\"\""
   ]
  },
  {
   "cell_type": "code",
   "execution_count": 3,
   "metadata": {},
   "outputs": [],
   "source": [
    "r\"\"\"We can create a new logger and configure it separately. The\n",
    "naming of a logger is chosen to be __name__ by convention.\n",
    "If the logger does not exist, then it will be created.\n",
    "Once the logger is created, we need to use this instance to run \n",
    "all the log methods: logger.info(...), logger.debug(...), etc.\n",
    "Loggers are within hierarchy. If it has not some arguments set, \n",
    "then it will fall back to the root logger. Thus, if the root is \n",
    "configured already, logger is going to use basicConfig of the \n",
    "root logger when it comes to creating the logfile, the format,\n",
    "and etc. However, we can log our own logger. To set a log file,\n",
    "we need to create a FileHandler object, which is created below.\n",
    "The argument is the name of the desired log file. The handler\n",
    "needs to be added to the logger, which is done below.\n",
    "Now, we can also create the formatter for the log and add it\n",
    "to the FILE HANDLER and NOT THE LOGGER itself! We can also set\n",
    "the logging level to this logger.\n",
    "\"\"\"\n",
    "\n",
    "logger = logging.getLogger(__name__)\n",
    "logger.setLevel(logging.INFO)\n",
    "formatter = logging.Formatter('%(asctime)s:%(name)s:%(levelname)s:%(message)s')\n",
    "file_handler = logging.FileHandler('adv_log.log')\n",
    "file_handler.setLevel(logging.ERROR)\n",
    "file_handler.setFormatter(formatter)\n",
    "logger.addHandler(file_handler)\n",
    "\n",
    "r\"\"\"We can add multiple handlers to a logger! We can create a \n",
    "stream handler so that particular messages do not get logged to\n",
    "a file, but appear in stream. We can also set formatter to the\n",
    "stream handler! It can be a new formatter, but for now, we set the\n",
    "same formatter here as well!\"\"\"\n",
    "stream_handler = logging.StreamHandler()\n",
    "stream_handler.setFormatter(formatter)\n",
    "logger.addHandler(stream_handler)"
   ]
  },
  {
   "cell_type": "code",
   "execution_count": 4,
   "metadata": {},
   "outputs": [
    {
     "name": "stderr",
     "output_type": "stream",
     "text": [
      "10 / 5 = 2.0\n"
     ]
    }
   ],
   "source": [
    "r\"\"\"Logging example.\"\"\"\n",
    "def divide(in1, in2):\n",
    "    return in1/in2\n",
    "\n",
    "in1 = 10\n",
    "in2 = 5\n",
    "\n",
    "logger.info('{} / {} = {}'.format(in1, in2, divide(in1, in2)))"
   ]
  },
  {
   "cell_type": "code",
   "execution_count": 5,
   "metadata": {},
   "outputs": [
    {
     "name": "stderr",
     "output_type": "stream",
     "text": [
      "5 / 4 = 1.25\n",
      "Division by 0 attempted.\n",
      "Division by 0 attempted.\n",
      "Traceback (most recent call last):\n",
      "  File \"<ipython-input-5-b376a145d5ce>\", line 9, in divide_robust\n",
      "    result = in1/in2\n",
      "ZeroDivisionError: division by zero\n",
      "5 / 4 = None\n"
     ]
    }
   ],
   "source": [
    "r\"\"\"We may want to only capture messages with a certain level\n",
    "and above, despite the logger being set to a different lower level.\n",
    "We can do so by setting the level to the file handler instance.\n",
    "This is done in [3]. We can try to make an error and this will\n",
    "be captured. However, despite the logger being set to INFO level, \n",
    "an INFO message will not be captured.\"\"\"\n",
    "def divide_robust(in1, in2):\n",
    "    try:\n",
    "        result = in1/in2\n",
    "    except ZeroDivisionError:\n",
    "        logger.error('Division by 0 attempted.')\n",
    "        # To enable logging traceback, do this--\n",
    "        logger.exception('Division by 0 attempted.')\n",
    "    else:\n",
    "        return result\n",
    "\n",
    "logger.info('{} / {} = {}'.format(5, 4, divide_robust(5, 4)))\n",
    "logger.info('{} / {} = {}'.format(5, 4, divide_robust(5, 0)))\n"
   ]
  },
  {
   "cell_type": "code",
   "execution_count": null,
   "metadata": {},
   "outputs": [],
   "source": []
  }
 ],
 "metadata": {
  "kernelspec": {
   "display_name": "Python 3",
   "language": "python",
   "name": "python3"
  },
  "language_info": {
   "codemirror_mode": {
    "name": "ipython",
    "version": 3
   },
   "file_extension": ".py",
   "mimetype": "text/x-python",
   "name": "python",
   "nbconvert_exporter": "python",
   "pygments_lexer": "ipython3",
   "version": "3.7.1"
  }
 },
 "nbformat": 4,
 "nbformat_minor": 2
}
