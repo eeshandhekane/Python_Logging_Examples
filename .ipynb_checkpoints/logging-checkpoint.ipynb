{
 "cells": [
  {
   "cell_type": "code",
   "execution_count": 1,
   "metadata": {},
   "outputs": [],
   "source": [
    "\"\"\"Replace print with log statements, \n",
    "set logging levels and log information to files.\n",
    "Set levels for different information to go to\n",
    "different places. Good for massive projects.\"\"\"\n",
    "\n",
    "# Dependencies\n",
    "import logging\n",
    "\n",
    "logging.basicConfig(\n",
    "    filename='log.log', \n",
    "    level=logging.DEBUG,\n",
    "    format='%(asctime)s:%(levelname)s:%(message)s'\n",
    "    )"
   ]
  },
  {
   "cell_type": "code",
   "execution_count": 2,
   "metadata": {},
   "outputs": [],
   "source": [
    "\"\"\"There are 5 levels in logging: DEBUG, INFO, WARNING,\n",
    "ERROR, and CRITICAL.\n",
    "\n",
    "1. DEBUG: Detailed information for diagnosis.\n",
    "\n",
    "2. INFO: Confirmation of things running as expected.\n",
    "\n",
    "3. WARNING: Indication of unexpected events. \n",
    "\n",
    "4. ERROR: Some serious problem hindering functionality.\n",
    "\n",
    "5. CRITICAL: Serious error indicating the program may not run.\n",
    "\n",
    "Default level is set to WARNING, which means that levels from \n",
    "WARNING included and above will be captured.\n",
    "\"\"\" \n",
    "\n",
    "def divide(in1, in2):\n",
    "    return in1/in2\n",
    "\n",
    "in1 = 10\n",
    "in2 = 5\n",
    "\n",
    "# Print always prints the result.\n",
    "print('{} / {} = {}'.format(in1, in2, divide(in1, in2)))"
   ]
  },
  {
   "cell_type": "code",
   "execution_count": 3,
   "metadata": {},
   "outputs": [],
   "source": [
    "r\"\"\"Log the answer to, say, debug. Prints nothing.\n",
    "This is because the default level of logging is WARNING.\n",
    "\"\"\"\n",
    "logging.debug('{} / {} = {}'.format(in1, in2, divide(in1, in2)))"
   ]
  },
  {
   "cell_type": "code",
   "execution_count": 4,
   "metadata": {},
   "outputs": [],
   "source": [
    "r\"\"\"We can set the logging level to WARNING.\n",
    "Then, stuff gets printed.\n",
    "Log the answer to, say, debug. Prints nothing.\n",
    "This is because the default level of logging is WARNING.\n",
    "\"\"\"\n",
    "logging.warning('{} / {} = {}'.format(in1, in2, divide(in1, in2)))"
   ]
  },
  {
   "cell_type": "code",
   "execution_count": 5,
   "metadata": {},
   "outputs": [
    {
     "name": "stderr",
     "output_type": "stream",
     "text": [
      "2019-07-12 18:12:08,738:DEBUG:10 / 5 = 2.0\n"
     ]
    }
   ],
   "source": [
    "r\"\"\"The above is not the correct usage as such. We need\n",
    "to set the configuration so that the logging level is set \n",
    "to DEBUG. Now, everything from DEBUG onwards (which is \n",
    "everything) gets logged. This is done in [1]. \n",
    "\"\"\"\n",
    "logging.debug('{} / {} = {}'.format(in1, in2, divide(in1, in2)))"
   ]
  },
  {
   "cell_type": "code",
   "execution_count": 6,
   "metadata": {},
   "outputs": [
    {
     "data": {
      "text/plain": [
       "\"We can redirect all the log into a file. This is done by\\nsetting an option of 'filename' into the basicConfig in [1].\\nWith this, we have created a file log.log to store all the log.\\nNothing will show up in the console if we choose the filename.\\n\""
      ]
     },
     "execution_count": 6,
     "metadata": {},
     "output_type": "execute_result"
    }
   ],
   "source": [
    "r\"\"\"We can redirect all the log into a file. This is done by\n",
    "setting an option of 'filename' into the basicConfig in [1].\n",
    "With this, we have created a file log.log to store all the log.\n",
    "Nothing will show up in the console if we choose the filename.\n",
    "\"\"\""
   ]
  },
  {
   "cell_type": "code",
   "execution_count": 7,
   "metadata": {},
   "outputs": [
    {
     "data": {
      "text/plain": [
       "\"We can change the formatting of the logging. We need to add\\n'format' argument to basicConfig. What all can be logged can be\\nfound at: https://docs.python.org/3/library/logging.html. We \\nset the options of human-readable time, levelname and the message.\\nThis is shown in [1].\\n\""
      ]
     },
     "execution_count": 7,
     "metadata": {},
     "output_type": "execute_result"
    }
   ],
   "source": [
    "r\"\"\"We can change the formatting of the logging. We need to add\n",
    "'format' argument to basicConfig. What all can be logged can be\n",
    "found at: https://docs.python.org/3/library/logging.html. We \n",
    "set the options of human-readable time, levelname and the message.\n",
    "This is shown in [1].\n",
    "\"\"\""
   ]
  }
 ],
 "metadata": {
  "kernelspec": {
   "display_name": "Python 3",
   "language": "python",
   "name": "python3"
  },
  "language_info": {
   "codemirror_mode": {
    "name": "ipython",
    "version": 3
   },
   "file_extension": ".py",
   "mimetype": "text/x-python",
   "name": "python",
   "nbconvert_exporter": "python",
   "pygments_lexer": "ipython3",
   "version": "3.7.1"
  }
 },
 "nbformat": 4,
 "nbformat_minor": 2
}
